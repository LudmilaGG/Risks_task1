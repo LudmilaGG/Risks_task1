{
 "cells": [
  {
   "cell_type": "code",
   "execution_count": 69,
   "metadata": {
    "collapsed": false
   },
   "outputs": [],
   "source": [
    "import mysql.connector\n",
    "import datetime\n",
    "import pandas as pd\n",
    "import numpy as np\n",
    "import matplotlib.pyplot as plt"
   ]
  },
  {
   "cell_type": "code",
   "execution_count": 70,
   "metadata": {
    "collapsed": true
   },
   "outputs": [],
   "source": [
    "conn = mysql.connector.connect(host='localhost',database='my_db',user='my_db_user')"
   ]
  },
  {
   "cell_type": "code",
   "execution_count": 71,
   "metadata": {
    "collapsed": true
   },
   "outputs": [],
   "source": [
    "cur = conn.cursor()"
   ]
  },
  {
   "cell_type": "code",
   "execution_count": 72,
   "metadata": {
    "collapsed": true
   },
   "outputs": [],
   "source": [
    "payments_df = pd.read_excel(\"payments.xls\")"
   ]
  },
  {
   "cell_type": "code",
   "execution_count": 73,
   "metadata": {
    "collapsed": true
   },
   "outputs": [],
   "source": [
    "APPLICATIONS_TABLE = 'applications'\n",
    "CONTRACTS_TABLE = 'contracts'\n",
    "PAYMENTS_TABLE = 'payments'\n",
    "DEFAULTS_TABLE = 'defaults'"
   ]
  },
  {
   "cell_type": "code",
   "execution_count": 74,
   "metadata": {
    "collapsed": true
   },
   "outputs": [],
   "source": [
    "cur.execute(\"\"\"\n",
    "DROP TABLE IF EXISTS %s\n",
    "\"\"\" % PAYMENTS_TABLE)"
   ]
  },
  {
   "cell_type": "code",
   "execution_count": 75,
   "metadata": {
    "collapsed": true
   },
   "outputs": [],
   "source": [
    "cur.execute(\"\"\"\n",
    "DROP TABLE IF EXISTS %s\n",
    "\"\"\" % DEFAULTS_TABLE)"
   ]
  },
  {
   "cell_type": "code",
   "execution_count": 76,
   "metadata": {
    "collapsed": true
   },
   "outputs": [],
   "source": [
    "cur.execute(\"\"\"\n",
    "CREATE TABLE %s (\n",
    "    id INT AUTO_INCREMENT,\n",
    "    contract_number INT NOT NULL,\n",
    "    date DATE,\n",
    "    amnt_due FLOAT,\n",
    "    amnt_paid FLOAT,\n",
    "    FOREIGN KEY (contract_number) REFERENCES %s(contract_number) ON DELETE CASCADE,\n",
    "    PRIMARY KEY (id)\n",
    ")  ENGINE=INNODB;\n",
    "\"\"\" % (PAYMENTS_TABLE, CONTRACTS_TABLE))"
   ]
  },
  {
   "cell_type": "code",
   "execution_count": 77,
   "metadata": {
    "collapsed": false
   },
   "outputs": [],
   "source": [
    "cur.execute(\"\"\"\n",
    "CREATE TABLE %s (\n",
    "    id_number INT NOT NULL,\n",
    "    default_date DATE,\n",
    "    FOREIGN KEY (id_number) REFERENCES %s(id_number) ON DELETE CASCADE,\n",
    "    PRIMARY KEY (id_number)\n",
    ")  ENGINE=INNODB;\n",
    "\"\"\" % (DEFAULTS_TABLE, APPLICATIONS_TABLE))"
   ]
  },
  {
   "cell_type": "code",
   "execution_count": 78,
   "metadata": {
    "collapsed": false,
    "scrolled": true
   },
   "outputs": [
    {
     "name": "stdout",
     "output_type": "stream",
     "text": [
      "There are no contracts with numbers: {100875}\n"
     ]
    }
   ],
   "source": [
    "no_contracts = set()\n",
    "for ind in payments_df.index:\n",
    "    row = payments_df.loc[ind]\n",
    "    cur.execute(\"SELECT 1=1 FROM %s WHERE contract_number=%d\" % (CONTRACTS_TABLE, int(row['Contract Number'])))\n",
    "    if cur.fetchone():\n",
    "        cur.execute(\"INSERT INTO %s (contract_number, date, amnt_due, amnt_paid) VALUES (%d, '%s', %f, %f)\" % (PAYMENTS_TABLE, \n",
    "                                                                                                         row['Contract Number'],\n",
    "                                                                                                         row['Date'],\n",
    "                                                                                                         row['Amount Due'],\n",
    "                                                                                                         row['Amount Paid']))\n",
    "    else:\n",
    "        no_contracts.add(int(row['Contract Number']))\n",
    "print(\"There are no contracts with numbers:\", no_contracts)\n",
    "conn.commit()"
   ]
  },
  {
   "cell_type": "code",
   "execution_count": 79,
   "metadata": {
    "collapsed": true
   },
   "outputs": [],
   "source": [
    "payments_df = pd.read_sql_query(\"SELECT * FROM %s\" % PAYMENTS_TABLE, conn, index_col='id')"
   ]
  },
  {
   "cell_type": "code",
   "execution_count": 80,
   "metadata": {
    "collapsed": true
   },
   "outputs": [],
   "source": [
    "s_dates = payments_df.groupby(['contract_number'], as_index=False).agg({'date': 'min'})"
   ]
  },
  {
   "cell_type": "code",
   "execution_count": 81,
   "metadata": {
    "collapsed": true
   },
   "outputs": [],
   "source": [
    "s_dates['amnt_due'] = np.nan\n",
    "s_dates['amnt_paid'] = np.nan"
   ]
  },
  {
   "cell_type": "code",
   "execution_count": 82,
   "metadata": {
    "collapsed": true
   },
   "outputs": [],
   "source": [
    "for ind in s_dates.index:\n",
    "    row = s_dates.loc[ind]\n",
    "    t_df = payments_df[(payments_df.contract_number == row.contract_number) & (payments_df.date == row.date)]\n",
    "    s_dates.loc[ind, 'amnt_due'] = t_df.amnt_due.iloc[0]\n",
    "    s_dates.loc[ind, 'amnt_paid'] = t_df.amnt_paid.iloc[0]"
   ]
  },
  {
   "cell_type": "code",
   "execution_count": 83,
   "metadata": {
    "collapsed": true
   },
   "outputs": [],
   "source": [
    "if np.any(s_dates.amnt_paid - s_dates.amnt_due < 0):\n",
    "    mb_zero_default = s_dates[s_dates.amnt_paid - s_dates.amnt_due < 0].contract_number.unique()\n",
    "    print(\"There may be overdues in the first period! Check contracts:\", mb_zero_default)"
   ]
  },
  {
   "cell_type": "code",
   "execution_count": 84,
   "metadata": {
    "collapsed": true
   },
   "outputs": [],
   "source": [
    "# Заполняем количество дней просрочки"
   ]
  },
  {
   "cell_type": "code",
   "execution_count": 85,
   "metadata": {
    "collapsed": true
   },
   "outputs": [],
   "source": [
    "payments_df['overdue_days'] = -1  # Ставим -1, там, где не было просрочки, а 0 будем ставить там, где должен был быть платеж, но не произошёл"
   ]
  },
  {
   "cell_type": "code",
   "execution_count": 86,
   "metadata": {
    "collapsed": true
   },
   "outputs": [],
   "source": [
    "for contract in payments_df.contract_number.unique():\n",
    "    temp_df = payments_df[payments_df.contract_number == contract].sort_values(['date'])\n",
    "    # Получаем массив индексов, т.к. индексация в \"частях\" pandas.DataFrame остаётся как и в исходном\n",
    "    index_arr = temp_df.index.tolist()\n",
    "    for i in range(1, len(index_arr)):  # Берем индексы с 1, т.к. в 0 всегда просрочка 0 (первый платеж)\n",
    "        prev_ind = index_arr[i - 1]\n",
    "        ind = index_arr[i]\n",
    "        if payments_df.loc[ind, 'amnt_paid'] < payments_df.loc[ind, 'amnt_due']:  # Платеж не поступил или был меньше\n",
    "            if payments_df.loc[prev_ind, 'overdue_days'] == -1:  # Не было просрочки\n",
    "                payments_df.loc[ind, 'overdue_days'] = 0  # С текущей даты пошла просрочка, но пока что 0\n",
    "            else:\n",
    "                # new_ov_days = (payments_df.loc[ind, 'date'] - payments_df.loc[prev_ind, 'date']).days  # Вычисляем кол-во дней просрочки\n",
    "                # Для простоты будем просто добавлять 30, т.к. платежи ровно через 1 мес.\n",
    "                new_ov_days = 30\n",
    "                payments_df.loc[ind, 'overdue_days'] = payments_df.loc[prev_ind, 'overdue_days'] + new_ov_days  # Складываем прошлую просрочку с текущей\n",
    "        elif payments_df.loc[ind, 'amnt_paid'] > payments_df.loc[ind, 'amnt_due']:\n",
    "            months_covered = int(round(payments_df.loc[ind, 'amnt_paid'] / payments_df.loc[ind, 'amnt_due'], 0))  # Считаем, за сколько месяцев оплатил\n",
    "            months_covered = months_covered - 1  # Вычитаем 1 месяц из погашения, т.к. мы не прибавили 30 дней за текущий месяц\n",
    "            # Вычитаем из просрочки количество \"погашенных\" просроченных платежей\n",
    "            # В случае более сложного начисления (с процентами, неравномерные платежи) надо использовать логику сложнее\n",
    "            payments_df.loc[ind, 'overdue_days'] = payments_df.loc[prev_ind, 'overdue_days'] - months_covered * 30\n",
    "            if payments_df.loc[ind, 'overdue_days'] < 0:\n",
    "                payments_df.loc[ind, 'overdue_days'] = -1  # Если погасил весь долг - нет просрочки"
   ]
  },
  {
   "cell_type": "code",
   "execution_count": 87,
   "metadata": {
    "collapsed": true
   },
   "outputs": [],
   "source": [
    "# Берем макс. дату выхода в просрочку 90+, т.к. вдруг клиент гасил просрочку 90 и возрашался в 60\n",
    "default_dates = payments_df[payments_df.overdue_days == 90].groupby(['contract_number'], as_index=False).agg({\"date\": \"max\"})"
   ]
  },
  {
   "cell_type": "code",
   "execution_count": 88,
   "metadata": {
    "collapsed": false
   },
   "outputs": [
    {
     "name": "stdout",
     "output_type": "stream",
     "text": [
      "   Contract Number Default Date\n",
      "0           100052   2017-12-30\n",
      "1           100375   2017-01-02\n",
      "2           100668   2018-06-29\n",
      "3           100684   2017-12-14\n",
      "4           100901   2016-11-03\n"
     ]
    }
   ],
   "source": [
    "print(default_dates.rename({\"contract_number\": \"Contract Number\", \"date\": \"Default Date\"}, axis=1))"
   ]
  },
  {
   "cell_type": "markdown",
   "metadata": {},
   "source": [
    "### 3.b"
   ]
  },
  {
   "cell_type": "code",
   "execution_count": 89,
   "metadata": {
    "collapsed": true
   },
   "outputs": [],
   "source": [
    "contracts_df = pd.read_sql_query(\"SELECT * FROM %s\" % CONTRACTS_TABLE, conn, index_col='contract_number')"
   ]
  },
  {
   "cell_type": "code",
   "execution_count": 90,
   "metadata": {
    "collapsed": true
   },
   "outputs": [],
   "source": [
    "# Определяем дату договора и заёмщика\n",
    "payments_df['contract_date'] = np.nan\n",
    "payments_df['id_number'] = 0\n",
    "for ind in payments_df.index:\n",
    "    row = payments_df.loc[ind]\n",
    "    payments_df.loc[ind, 'contract_date'] = contracts_df.loc[row.contract_number].contract_date\n",
    "    payments_df.loc[ind, 'id_number'] = contracts_df.loc[row.contract_number].id_number"
   ]
  },
  {
   "cell_type": "code",
   "execution_count": 91,
   "metadata": {
    "collapsed": true
   },
   "outputs": [],
   "source": [
    "# Определяем \"возраст\" договора в месяцах на каждую дату\n",
    "payments_df['age'] = 0\n",
    "for contract in payments_df.contract_number.unique():\n",
    "    temp_df = payments_df[payments_df.contract_number == contract].sort_values(['date'])\n",
    "    index_arr = temp_df.index.tolist()\n",
    "    contract_date = temp_df.contract_date.iloc[0]  # Берем первую дату договора из таблицы, т.к. они все одинаковые\n",
    "    for i in range(0, len(index_arr)):\n",
    "        ind = index_arr[i]\n",
    "        curr_date = payments_df.loc[ind, 'date']\n",
    "        curr_age = (curr_date.year - contract_date.year) * 12 + (curr_date.month - contract_date.month)\n",
    "        payments_df.loc[ind, 'age'] = curr_age\n",
    "# Такой алгоритм вычисления возраста не подойдёт для данных, у которых частота чаще, чем 1 раз в месяц"
   ]
  },
  {
   "cell_type": "code",
   "execution_count": 132,
   "metadata": {
    "collapsed": false
   },
   "outputs": [
    {
     "name": "stdout",
     "output_type": "stream",
     "text": [
      "Please enter risk horizon (in months): 24\n"
     ]
    }
   ],
   "source": [
    "period_months = int(input(\"Please enter risk horizon (in months): \"))"
   ]
  },
  {
   "cell_type": "code",
   "execution_count": 133,
   "metadata": {
    "collapsed": true
   },
   "outputs": [],
   "source": [
    "out_df = payments_df[payments_df.age == period_months][['contract_number', \n",
    "                                                        'date', \n",
    "                                                        'contract_date', \n",
    "                                                        'id_number', \n",
    "                                                        'age']].reset_index(drop=True)  # Берем только нужные поля и \"сбрасываем\" индекс (начинаем с 0)"
   ]
  },
  {
   "cell_type": "code",
   "execution_count": 134,
   "metadata": {
    "collapsed": true
   },
   "outputs": [],
   "source": [
    "out_df['Default?'] = False"
   ]
  },
  {
   "cell_type": "code",
   "execution_count": 135,
   "metadata": {
    "collapsed": true
   },
   "outputs": [],
   "source": [
    "for contract in out_df.contract_number.unique():\n",
    "    if contract in default_dates.contract_number.values:\n",
    "        default_date = default_dates[default_dates.contract_number == contract].date.iloc[0]\n",
    "        current_date = out_df.loc[out_df.contract_number == contract, \"date\"].iloc[0]\n",
    "        if current_date >= default_date:\n",
    "            out_df.loc[(out_df.contract_number == contract), \"Default?\"] = True"
   ]
  },
  {
   "cell_type": "code",
   "execution_count": 136,
   "metadata": {
    "collapsed": true,
    "scrolled": true
   },
   "outputs": [],
   "source": [
    "# print(out_df.sort_values(['id_number', 'contract_number']).reset_index(drop=True).rename({\"contract_number\": \"Contract\", \n",
    "#                                                                                     \"date\": \"Date\",\n",
    "#                                                                                     \"contract_date\": \"Contract Date\",\n",
    "#                                                                                     \"id_number\": \"Person ID\",\n",
    "#                                                                                     \"age\": \"Age (months)\"}, axis=1)[['Person ID', 'Age (months)', 'Default?']])"
   ]
  },
  {
   "cell_type": "markdown",
   "metadata": {},
   "source": [
    "## 3.c"
   ]
  },
  {
   "cell_type": "code",
   "execution_count": 137,
   "metadata": {
    "collapsed": false,
    "scrolled": true
   },
   "outputs": [
    {
     "name": "stdout",
     "output_type": "stream",
     "text": [
      "           Age (months)  Default?\n",
      "id_number                        \n",
      "100003               24     False\n",
      "100007               24     False\n",
      "100009               24     False\n",
      "100010               24     False\n",
      "100011               24     False\n",
      "100014               24     False\n",
      "100017               24     False\n",
      "100018               24     False\n",
      "100023               24     False\n",
      "100025               24     False\n",
      "100035               24     False\n",
      "100040               24     False\n",
      "100044               24     False\n",
      "100048               24     False\n",
      "100055               24     False\n",
      "100060               24     False\n",
      "100062               24     False\n",
      "100069               24     False\n",
      "100070               24     False\n",
      "100072               24     False\n",
      "100073               24     False\n"
     ]
    }
   ],
   "source": [
    "print(out_df.groupby(['id_number']).agg({\"age\": \"max\", \"Default?\": \"max\"}).rename({\"age\": \"Age (months)\"}, axis=1))"
   ]
  },
  {
   "cell_type": "markdown",
   "metadata": {},
   "source": [
    "## 3.d"
   ]
  },
  {
   "cell_type": "code",
   "execution_count": 98,
   "metadata": {
    "collapsed": true
   },
   "outputs": [],
   "source": [
    "# Определяем клиентов-дефолтников\n",
    "contracts_filter = ', '.join(default_dates.contract_number.unique().astype(str))\n",
    "default_data = pd.read_sql_query(\"\"\"\n",
    "SELECT\n",
    "     id_number,\n",
    "     contract_number\n",
    "FROM\n",
    "    %s\n",
    "WHERE\n",
    "    contract_number IN (%s)\n",
    "\"\"\" % (CONTRACTS_TABLE, contracts_filter), conn)"
   ]
  },
  {
   "cell_type": "code",
   "execution_count": 99,
   "metadata": {
    "collapsed": false
   },
   "outputs": [
    {
     "data": {
      "text/html": [
       "<div>\n",
       "<style scoped>\n",
       "    .dataframe tbody tr th:only-of-type {\n",
       "        vertical-align: middle;\n",
       "    }\n",
       "\n",
       "    .dataframe tbody tr th {\n",
       "        vertical-align: top;\n",
       "    }\n",
       "\n",
       "    .dataframe thead th {\n",
       "        text-align: right;\n",
       "    }\n",
       "</style>\n",
       "<table border=\"1\" class=\"dataframe\">\n",
       "  <thead>\n",
       "    <tr style=\"text-align: right;\">\n",
       "      <th></th>\n",
       "      <th>id_number</th>\n",
       "      <th>contract_number</th>\n",
       "    </tr>\n",
       "  </thead>\n",
       "  <tbody>\n",
       "    <tr>\n",
       "      <th>0</th>\n",
       "      <td>100047</td>\n",
       "      <td>100052</td>\n",
       "    </tr>\n",
       "    <tr>\n",
       "      <th>1</th>\n",
       "      <td>100049</td>\n",
       "      <td>100375</td>\n",
       "    </tr>\n",
       "    <tr>\n",
       "      <th>2</th>\n",
       "      <td>100056</td>\n",
       "      <td>100668</td>\n",
       "    </tr>\n",
       "    <tr>\n",
       "      <th>3</th>\n",
       "      <td>100031</td>\n",
       "      <td>100684</td>\n",
       "    </tr>\n",
       "    <tr>\n",
       "      <th>4</th>\n",
       "      <td>100050</td>\n",
       "      <td>100901</td>\n",
       "    </tr>\n",
       "  </tbody>\n",
       "</table>\n",
       "</div>"
      ],
      "text/plain": [
       "   id_number  contract_number\n",
       "0     100047           100052\n",
       "1     100049           100375\n",
       "2     100056           100668\n",
       "3     100031           100684\n",
       "4     100050           100901"
      ]
     },
     "execution_count": 99,
     "metadata": {},
     "output_type": "execute_result"
    }
   ],
   "source": [
    "default_data"
   ]
  },
  {
   "cell_type": "code",
   "execution_count": 100,
   "metadata": {
    "collapsed": true
   },
   "outputs": [],
   "source": [
    "default_data['default_date'] = default_data.contract_number.apply(lambda x: default_dates.set_index('contract_number').loc[x].date)"
   ]
  },
  {
   "cell_type": "code",
   "execution_count": 101,
   "metadata": {
    "collapsed": true
   },
   "outputs": [],
   "source": [
    "default_clients = set(default_data.id_number.values)"
   ]
  },
  {
   "cell_type": "code",
   "execution_count": 188,
   "metadata": {
    "collapsed": true
   },
   "outputs": [],
   "source": [
    "# Выбираем нужные данные о клиентах\n",
    "applications_df = pd.read_sql_query(\"\"\"\n",
    "SELECT\n",
    "    *\n",
    "FROM\n",
    "    %s\n",
    "\"\"\" % APPLICATIONS_TABLE, conn, index_col='id_number')"
   ]
  },
  {
   "cell_type": "code",
   "execution_count": 189,
   "metadata": {
    "collapsed": true
   },
   "outputs": [],
   "source": [
    "# Убираем ненужные колонки\n",
    "applications_df.drop([\"name\", \"application_date\", 'city'], axis=1, inplace=True)"
   ]
  },
  {
   "cell_type": "code",
   "execution_count": 190,
   "metadata": {
    "collapsed": true
   },
   "outputs": [],
   "source": [
    "# Убираем клиента, по которому мало данных"
   ]
  },
  {
   "cell_type": "code",
   "execution_count": 191,
   "metadata": {
    "collapsed": true
   },
   "outputs": [],
   "source": [
    "applications_df.drop([100076], inplace=True)"
   ]
  },
  {
   "cell_type": "code",
   "execution_count": 192,
   "metadata": {
    "collapsed": true
   },
   "outputs": [],
   "source": [
    "# Заполняем пустые поля\n",
    "applications_df.fillna(0.0, inplace=True)"
   ]
  },
  {
   "cell_type": "code",
   "execution_count": 193,
   "metadata": {
    "collapsed": true
   },
   "outputs": [],
   "source": [
    "applications_df['default'] = 0"
   ]
  },
  {
   "cell_type": "code",
   "execution_count": 194,
   "metadata": {
    "collapsed": true
   },
   "outputs": [],
   "source": [
    "applications_df.loc[applications_df.index.isin(default_clients), \"default\"] = 1"
   ]
  },
  {
   "cell_type": "code",
   "execution_count": 195,
   "metadata": {
    "collapsed": true
   },
   "outputs": [],
   "source": [
    "applications_df['age'] = (datetime.date.today() - applications_df.birth_date).apply(lambda x: x.days // 365)"
   ]
  },
  {
   "cell_type": "code",
   "execution_count": 196,
   "metadata": {
    "collapsed": true
   },
   "outputs": [],
   "source": [
    "applications_df.drop(['birth_date'], axis=1, inplace=True)"
   ]
  },
  {
   "cell_type": "code",
   "execution_count": 197,
   "metadata": {
    "collapsed": true
   },
   "outputs": [],
   "source": [
    "applications_df.income = pd.qcut(applications_df.income, 5)"
   ]
  },
  {
   "cell_type": "code",
   "execution_count": 198,
   "metadata": {
    "collapsed": true
   },
   "outputs": [],
   "source": [
    "def get_age_of_car_category(age):\n",
    "    if age == 0:\n",
    "        return '0'\n",
    "    elif age <= 3:\n",
    "        return '<=3'\n",
    "    else:\n",
    "        return '>3'"
   ]
  },
  {
   "cell_type": "code",
   "execution_count": 199,
   "metadata": {
    "collapsed": true
   },
   "outputs": [],
   "source": [
    "applications_df.age_of_car = applications_df.age_of_car.apply(get_age_of_car_category)"
   ]
  },
  {
   "cell_type": "code",
   "execution_count": 200,
   "metadata": {
    "collapsed": true
   },
   "outputs": [],
   "source": [
    "applications_df.age = pd.qcut(applications_df.age, 5)"
   ]
  },
  {
   "cell_type": "code",
   "execution_count": 201,
   "metadata": {
    "collapsed": true
   },
   "outputs": [],
   "source": [
    "quantilized_columns = ['income', 'age', 'age_of_car']"
   ]
  },
  {
   "cell_type": "code",
   "execution_count": 202,
   "metadata": {
    "collapsed": true
   },
   "outputs": [],
   "source": [
    "categorucal_columns = ['gender', \n",
    "                       'employed_by',\n",
    "                       'education',\n",
    "                       'marital_status',\n",
    "                       'position',\n",
    "                       'income_type',\n",
    "                       'housing',\n",
    "                       'house_ownership',\n",
    "                       'children',\n",
    "                       'family',\n",
    "                       ]"
   ]
  },
  {
   "cell_type": "code",
   "execution_count": 203,
   "metadata": {
    "collapsed": true
   },
   "outputs": [],
   "source": [
    "choices = dict(zip(range(len(categorucal_columns + quantilized_columns)), sorted(categorucal_columns + quantilized_columns)))"
   ]
  },
  {
   "cell_type": "code",
   "execution_count": 204,
   "metadata": {
    "collapsed": false
   },
   "outputs": [
    {
     "name": "stdout",
     "output_type": "stream",
     "text": [
      "0: age\n",
      "1: age_of_car\n",
      "2: children\n",
      "3: education\n",
      "4: employed_by\n",
      "5: family\n",
      "6: gender\n",
      "7: house_ownership\n",
      "8: housing\n",
      "9: income\n",
      "10: income_type\n",
      "11: marital_status\n",
      "12: position\n"
     ]
    }
   ],
   "source": [
    "for i in choices.keys():\n",
    "    print(\"%d: %s\" % (i, choices[i]))"
   ]
  },
  {
   "cell_type": "code",
   "execution_count": 205,
   "metadata": {
    "collapsed": false
   },
   "outputs": [
    {
     "name": "stdout",
     "output_type": "stream",
     "text": [
      "Please choose column (default=0): 4\n"
     ]
    }
   ],
   "source": [
    "column_choice = choices.get(int(input(\"Please choose column (default=0): \")), 0)"
   ]
  },
  {
   "cell_type": "markdown",
   "metadata": {},
   "source": [
    "## 3.e"
   ]
  },
  {
   "cell_type": "code",
   "execution_count": 206,
   "metadata": {
    "collapsed": false
   },
   "outputs": [],
   "source": [
    "coded_columns = categorucal_columns.copy()"
   ]
  },
  {
   "cell_type": "code",
   "execution_count": 207,
   "metadata": {
    "collapsed": false
   },
   "outputs": [],
   "source": [
    "coded_columns.remove('gender')\n",
    "coded_columns.remove('house_ownership')\n",
    "coded_columns.remove('children')\n",
    "coded_columns.remove('family')"
   ]
  },
  {
   "cell_type": "code",
   "execution_count": 208,
   "metadata": {
    "collapsed": false,
    "scrolled": true
   },
   "outputs": [],
   "source": [
    "reverse_dicts = dict()\n",
    "for column_name in coded_columns:\n",
    "    cur.execute(\"SELECT * FROM %s_dict\" % (column_name))\n",
    "    temp_dict = {i[0]: i[1] for i in cur.fetchall()}\n",
    "    reverse_dicts[column_name] = temp_dict "
   ]
  },
  {
   "cell_type": "code",
   "execution_count": 209,
   "metadata": {
    "collapsed": false
   },
   "outputs": [],
   "source": [
    "for column_name in coded_columns:\n",
    "    applications_df[column_name] = applications_df[column_name + '_id'].apply(lambda x: reverse_dicts[column_name][x])\n",
    "    applications_df.drop([column_name + '_id'], axis=1, inplace=True)"
   ]
  },
  {
   "cell_type": "code",
   "execution_count": 210,
   "metadata": {
    "collapsed": false
   },
   "outputs": [],
   "source": [
    "temp_df = applications_df[[column_choice, 'default']].copy()"
   ]
  },
  {
   "cell_type": "code",
   "execution_count": 211,
   "metadata": {
    "collapsed": true
   },
   "outputs": [],
   "source": [
    "temp_df['event'] = temp_df.default\n",
    "temp_df['non_event'] = 1 - temp_df.default"
   ]
  },
  {
   "cell_type": "code",
   "execution_count": 212,
   "metadata": {
    "collapsed": true
   },
   "outputs": [],
   "source": [
    "df_gb = temp_df.groupby([column_choice]).agg({\"default\": \"sum\", \n",
    "                                         \"event\": lambda x: x.sum() / temp_df.event.sum(), \n",
    "                                         \"non_event\": lambda x: x.sum() / temp_df.non_event.sum()})"
   ]
  },
  {
   "cell_type": "code",
   "execution_count": 213,
   "metadata": {
    "collapsed": true
   },
   "outputs": [],
   "source": [
    "df_gb['woe'] = np.log(np.clip(df_gb.event / df_gb.non_event, 0.001, np.inf))"
   ]
  },
  {
   "cell_type": "code",
   "execution_count": 214,
   "metadata": {
    "collapsed": true
   },
   "outputs": [],
   "source": [
    "df_gb['IV'] = (df_gb.event - df_gb.non_event) * df_gb.woe"
   ]
  },
  {
   "cell_type": "code",
   "execution_count": 215,
   "metadata": {
    "collapsed": true
   },
   "outputs": [],
   "source": [
    "df_gb.index = df_gb.index.astype(str)"
   ]
  },
  {
   "cell_type": "code",
   "execution_count": 216,
   "metadata": {
    "collapsed": false
   },
   "outputs": [
    {
     "data": {
      "image/png": "[encoded data removed]",
      "text/plain": [
       "<matplotlib.figure.Figure at 0x235a373a1d0>"
      ]
     },
     "metadata": {},
     "output_type": "display_data"
    }
   ],
   "source": [
    "plt.figure(figsize=(12, 7));\n",
    "plt.plot(list(range(df_gb.shape[0])), df_gb.woe, 'o-')\n",
    "plt.grid()\n",
    "plt.xticks(list(range(df_gb.shape[0])), df_gb.index)\n",
    "plt.ylabel(\"WOE\", fontsize=14)\n",
    "plt.xlabel(column_choice, fontsize=14)\n",
    "plt.title(\"WOE plot\", fontsize=16)\n",
    "plt.show()"
   ]
  },
  {
   "cell_type": "code",
   "execution_count": 217,
   "metadata": {
    "collapsed": false
   },
   "outputs": [
    {
     "data": {
      "image/png": "[encoded data removed]",
      "text/plain": [
       "<matplotlib.figure.Figure at 0x235a3774a58>"
      ]
     },
     "metadata": {},
     "output_type": "display_data"
    }
   ],
   "source": [
    "plt.figure(figsize=(12, 7));\n",
    "plt.plot(list(range(df_gb.shape[0])), df_gb.IV, 'o-')\n",
    "plt.grid()\n",
    "plt.xticks(list(range(df_gb.shape[0])), df_gb.index)\n",
    "plt.ylabel(\"IV\", fontsize=14)\n",
    "plt.xlabel(column_choice, fontsize=14)\n",
    "plt.title(\"Information Value plot\", fontsize=16)\n",
    "plt.show()"
   ]
  },
  {
   "cell_type": "code",
   "execution_count": 181,
   "metadata": {
    "collapsed": true
   },
   "outputs": [],
   "source": [
    "df_gb.loc['SUM'] = df_gb.sum()"
   ]
  },
  {
   "cell_type": "code",
   "execution_count": 182,
   "metadata": {
    "collapsed": false,
    "scrolled": true
   },
   "outputs": [
    {
     "name": "stdout",
     "output_type": "stream",
     "text": [
      "                               default  event  non_event       woe        IV\n",
      "education                                                                   \n",
      "Higher education                   1.0    0.2   0.293103 -0.382208  0.035585\n",
      "Incomplete higher                  0.0    0.0   0.017241 -6.907755  0.119099\n",
      "Secondary / secondary special      4.0    0.8   0.689655  0.148420  0.016377\n",
      "SUM                                5.0    1.0   1.000000 -7.141544  0.171062\n"
     ]
    }
   ],
   "source": [
    "print(df_gb)"
   ]
  },
  {
   "cell_type": "code",
   "execution_count": 130,
   "metadata": {
    "collapsed": true
   },
   "outputs": [],
   "source": [
    "def_gb = default_data.groupby(['id_number'], as_index = False).agg({\"default_date\": \"min\"})"
   ]
  },
  {
   "cell_type": "markdown",
   "metadata": {},
   "source": [
    "## 3.f"
   ]
  },
  {
   "cell_type": "code",
   "execution_count": 131,
   "metadata": {
    "collapsed": true
   },
   "outputs": [],
   "source": [
    "for id_number, default_date in def_gb.values:\n",
    "    cur.execute(\"\"\"\n",
    "    INSERT INTO %s VALUES (%d, '%s')\n",
    "    \"\"\" % (DEFAULTS_TABLE, id_number, default_date))\n",
    "    \n",
    "conn.commit()"
   ]
  }
 ],
 "metadata": {
  "kernelspec": {
   "display_name": "Python 3",
   "language": "python",
   "name": "python3"
  },
  "language_info": {
   "codemirror_mode": {
    "name": "ipython",
    "version": 3
   },
   "file_extension": ".py",
   "mimetype": "text/x-python",
   "name": "python",
   "nbconvert_exporter": "python",
   "pygments_lexer": "ipython3",
   "version": "3.6.0"
  }
 },
 "nbformat": 4,
 "nbformat_minor": 2
}
