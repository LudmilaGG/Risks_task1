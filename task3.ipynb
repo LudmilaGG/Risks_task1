{
 "cells": [
  {
   "cell_type": "code",
   "execution_count": 27,
   "metadata": {
    "collapsed": true
   },
   "outputs": [],
   "source": [
    "import mysql.connector\n",
    "import datetime\n",
    "import pandas as pd\n",
    "import numpy as np\n",
    "import matplotlib.pyplot as plt"
   ]
  },
  {
   "cell_type": "code",
   "execution_count": 28,
   "metadata": {
    "collapsed": true
   },
   "outputs": [],
   "source": [
    "conn = mysql.connector.connect(host='localhost',database='my_db',user='my_db_user')"
   ]
  },
  {
   "cell_type": "code",
   "execution_count": 29,
   "metadata": {
    "collapsed": true
   },
   "outputs": [],
   "source": [
    "cur = conn.cursor()"
   ]
  },
  {
   "cell_type": "code",
   "execution_count": 30,
   "metadata": {
    "collapsed": true
   },
   "outputs": [],
   "source": [
    "APPLICATIONS_TABLE = 'applications'\n",
    "CONTRACTS_TABLE = 'contracts'\n",
    "PAYMENTS_TABLE = 'payments'\n",
    "DEFAULTS_TABLE = 'defaults'"
   ]
  },
  {
   "cell_type": "markdown",
   "metadata": {},
   "source": [
    "## 1.a"
   ]
  },
  {
   "cell_type": "code",
   "execution_count": 31,
   "metadata": {
    "collapsed": true
   },
   "outputs": [],
   "source": [
    "contracts_df = pd.read_sql_query(\"SELECT * FROM %s\" % CONTRACTS_TABLE, conn, index_col='contract_number')\n",
    "clients_df = pd.read_sql_query(\"SELECT * FROM %s\" % APPLICATIONS_TABLE, conn)\n",
    "defaults_df = pd.read_sql_query(\"SELECT * FROM %s\" % DEFAULTS_TABLE, conn)"
   ]
  },
  {
   "cell_type": "code",
   "execution_count": 32,
   "metadata": {
    "collapsed": true
   },
   "outputs": [],
   "source": [
    "payments_df = pd.read_sql_query(\"SELECT * FROM %s\" % PAYMENTS_TABLE, conn, index_col='id')"
   ]
  },
  {
   "cell_type": "code",
   "execution_count": 33,
   "metadata": {
    "collapsed": true
   },
   "outputs": [],
   "source": [
    "payments_df['overdue_days'] = -1  # Ставим -1, там, где не было просрочки (потом уберем), а 0 будем ставить там, где должен был быть платеж, но не произошёл"
   ]
  },
  {
   "cell_type": "code",
   "execution_count": 34,
   "metadata": {
    "collapsed": true
   },
   "outputs": [],
   "source": [
    "for contract in payments_df.contract_number.unique():\n",
    "    temp_df = payments_df[payments_df.contract_number == contract].sort_values(['date'])\n",
    "    # Получаем массив индексов, т.к. индексация в \"частях\" pandas.DataFrame остаётся как и в исходном\n",
    "    index_arr = temp_df.index.tolist()\n",
    "    for i in range(1, len(index_arr)):  # Берем индексы с 1, т.к. в 0 всегда просрочка 0 (первый платеж)\n",
    "        prev_ind = index_arr[i - 1]\n",
    "        ind = index_arr[i]\n",
    "        if payments_df.loc[ind, 'amnt_paid'] < payments_df.loc[ind, 'amnt_due']:  # Платеж не поступил или был меньше\n",
    "            if payments_df.loc[prev_ind, 'overdue_days'] == -1:  # Не было просрочки\n",
    "                payments_df.loc[ind, 'overdue_days'] = 0  # С текущей даты пошла просрочка, но пока что 0\n",
    "            else:\n",
    "#                 new_ov_days = (payments_df.loc[ind, 'date'] - payments_df.loc[prev_ind, 'date']).days  # Вычисляем кол-во дней просрочки\n",
    "                #  Для простоты будем просто добавлять 30, т.к. платежи ровно через 1 мес.\n",
    "                new_ov_days = 30\n",
    "                payments_df.loc[ind, 'overdue_days'] = payments_df.loc[prev_ind, 'overdue_days'] + new_ov_days  # Складываем прошлую просрочку с текущей\n",
    "        elif payments_df.loc[ind, 'amnt_paid'] > payments_df.loc[ind, 'amnt_due']:\n",
    "            months_covered = int(round(payments_df.loc[ind, 'amnt_paid'] / payments_df.loc[ind, 'amnt_due'], 0))  # Считаем, за сколько месяцев оплатил\n",
    "            months_covered = months_covered - 1  # Вычитаем 1 месяца из погашения, т.к. мы не прибавили 30 дней за текущий месяц\n",
    "            # Вычитаем из просрочки количество \"погашенных\" просроченных платежей\n",
    "            # В случае более сложного начисления (с процентами, неравномерные платежи) надо использовать логику сложнее\n",
    "            payments_df.loc[ind, 'overdue_days'] = payments_df.loc[prev_ind, 'overdue_days'] - months_covered * 30\n",
    "            if payments_df.loc[ind, 'overdue_days'] < 0:\n",
    "                payments_df.loc[ind, 'overdue_days'] = -1  # Если погасил весь долг - нет просрочки"
   ]
  },
  {
   "cell_type": "code",
   "execution_count": 35,
   "metadata": {
    "collapsed": true
   },
   "outputs": [],
   "source": [
    "# Берем макс. дату выхода в просрочку 90+, т.к. вдруг клиент гасил просрочку 90 и возрашался в 60\n",
    "default_dates = payments_df[payments_df.overdue_days == 90].groupby(['contract_number'], as_index=False).agg({\"date\": \"max\"})"
   ]
  },
  {
   "cell_type": "code",
   "execution_count": 36,
   "metadata": {
    "collapsed": true
   },
   "outputs": [],
   "source": [
    "# Определяем дату договора и заёмщика\n",
    "payments_df['contract_date'] = np.nan\n",
    "payments_df['id_number'] = 0\n",
    "for ind in payments_df.index:\n",
    "    row = payments_df.loc[ind]\n",
    "    payments_df.loc[ind, 'contract_date'] = contracts_df.loc[row.contract_number].contract_date\n",
    "    payments_df.loc[ind, 'id_number'] = contracts_df.loc[row.contract_number].id_number"
   ]
  },
  {
   "cell_type": "code",
   "execution_count": 37,
   "metadata": {
    "collapsed": true
   },
   "outputs": [],
   "source": [
    "# Определяем \"возраст\" договора в месяцах на каждую дату\n",
    "payments_df['age'] = 0\n",
    "for contract in payments_df.contract_number.unique():\n",
    "    temp_df = payments_df[payments_df.contract_number == contract].sort_values(['date'])\n",
    "    index_arr = temp_df.index.tolist()\n",
    "    contract_date = temp_df.contract_date.iloc[0]  # Берем первую дату договора из таблицы, т.к. они все одинаковые\n",
    "    for i in range(0, len(index_arr)):\n",
    "        ind = index_arr[i]\n",
    "        curr_date = payments_df.loc[ind, 'date']\n",
    "        curr_age = (curr_date.year - contract_date.year) * 12 + (curr_date.month - contract_date.month)\n",
    "        payments_df.loc[ind, 'age'] = curr_age\n",
    "# Такой алгоритм вычисления возраста не подойдёт для данных, у которых частота чаще, чем 1 раз в месяц"
   ]
  },
  {
   "cell_type": "code",
   "execution_count": 38,
   "metadata": {
    "collapsed": true
   },
   "outputs": [],
   "source": [
    "period_months = 12"
   ]
  },
  {
   "cell_type": "code",
   "execution_count": 39,
   "metadata": {
    "collapsed": true
   },
   "outputs": [],
   "source": [
    "out_df = payments_df[payments_df.age == period_months][['contract_number', \n",
    "                                                        'date', \n",
    "                                                        'contract_date', \n",
    "                                                        'id_number', \n",
    "                                                        'age']].reset_index(drop=True)  # Берем только нужные поля и \"сбрасываем\" индекс (начинаем с 0)"
   ]
  },
  {
   "cell_type": "code",
   "execution_count": 40,
   "metadata": {
    "collapsed": true
   },
   "outputs": [],
   "source": [
    "out_df['Default?'] = False"
   ]
  },
  {
   "cell_type": "code",
   "execution_count": 41,
   "metadata": {
    "collapsed": true
   },
   "outputs": [],
   "source": [
    "for contract in out_df.contract_number.unique():\n",
    "    if contract in default_dates.contract_number.values:\n",
    "        default_date = default_dates[default_dates.contract_number == contract].date.iloc[0]\n",
    "        current_date = out_df.loc[out_df.contract_number == contract, \"date\"].iloc[0]\n",
    "        if current_date >= default_date:\n",
    "            out_df.loc[(out_df.contract_number == contract), \"Default?\"] = True"
   ]
  },
  {
   "cell_type": "code",
   "execution_count": 42,
   "metadata": {
    "collapsed": false
   },
   "outputs": [
    {
     "name": "stdout",
     "output_type": "stream",
     "text": [
      "           Age (months)  Default?\n",
      "id_number                        \n",
      "100003               12     False\n",
      "100004               12     False\n",
      "100006               12     False\n",
      "100007               12     False\n",
      "100008               12     False\n",
      "100009               12     False\n",
      "100010               12     False\n",
      "100011               12     False\n",
      "100012               12     False\n",
      "100014               12     False\n",
      "100015               12     False\n",
      "100016               12     False\n",
      "100017               12     False\n",
      "100018               12     False\n",
      "100019               12     False\n",
      "100020               12     False\n",
      "100021               12     False\n",
      "100022               12     False\n",
      "100023               12     False\n",
      "100025               12     False\n",
      "100026               12     False\n",
      "100027               12     False\n",
      "100030               12     False\n",
      "100031               12     False\n",
      "100032               12     False\n",
      "100033               12     False\n",
      "100034               12     False\n",
      "100035               12     False\n",
      "100036               12     False\n",
      "100037               12     False\n",
      "100039               12     False\n",
      "100040               12     False\n",
      "100041               12     False\n",
      "100044               12     False\n",
      "100045               12     False\n",
      "100046               12     False\n",
      "100047               12     False\n",
      "100048               12     False\n",
      "100051               12     False\n",
      "100052               12     False\n",
      "100053               12     False\n",
      "100054               12     False\n",
      "100055               12     False\n",
      "100056               12     False\n",
      "100058               12     False\n",
      "100059               12     False\n",
      "100060               12     False\n",
      "100061               12     False\n",
      "100062               12     False\n",
      "100063               12     False\n",
      "100064               12     False\n",
      "100068               12     False\n",
      "100069               12     False\n",
      "100070               12     False\n",
      "100071               12     False\n",
      "100072               12     False\n",
      "100073               12     False\n",
      "100075               12     False\n"
     ]
    }
   ],
   "source": [
    "print(out_df.groupby(['id_number']).agg({\"age\": \"max\", \"Default?\": \"max\"}).rename({\"age\": \"Age (months)\"}, axis=1))"
   ]
  },
  {
   "cell_type": "markdown",
   "metadata": {},
   "source": [
    "## 1.b"
   ]
  },
  {
   "cell_type": "code",
   "execution_count": 43,
   "metadata": {
    "collapsed": true
   },
   "outputs": [],
   "source": [
    "def get_client_score(client):\n",
    "    def get_age_score(age):\n",
    "        if 18 <= age < 25:\n",
    "            return 10\n",
    "        elif 25 <= age < 35:\n",
    "            return 20\n",
    "        elif 35 <= age < 45:\n",
    "            return 25\n",
    "        elif 45 <= age < 55:\n",
    "            return 30\n",
    "        else:\n",
    "            return 18\n",
    "        \n",
    "    def get_family_score(family):\n",
    "        family_score_dict = {\n",
    "            1: 5,\n",
    "            2: 10,\n",
    "            3: 15,\n",
    "            4: 10\n",
    "        }\n",
    "        return family_score_dict.get(family, 5)\n",
    "    \n",
    "    def get_income_score(income):\n",
    "        if income < 30000:\n",
    "            return 3\n",
    "        elif 30000 <= income < 50000:\n",
    "            return 5\n",
    "        elif 50000 <= income < 100000:\n",
    "            return 10\n",
    "        elif 100000 <= income < 200000:\n",
    "            return 15\n",
    "        elif 200000 <= income < 350000:\n",
    "            return 20\n",
    "        elif 350000 <= income < 500000:\n",
    "            return 25\n",
    "        else:\n",
    "            return 30\n",
    "    \n",
    "    def get_house_ownership_score(house_ownership):\n",
    "        if house_ownership:\n",
    "            return 20\n",
    "        else:\n",
    "            return 0\n",
    "        \n",
    "    def get_age_of_car_score(age_of_car):\n",
    "        if age_of_car < 1:\n",
    "            return 20\n",
    "        elif 1 <= age_of_car < 3:\n",
    "            return 15\n",
    "        elif 3 <= age_of_car < 6:\n",
    "            return 10\n",
    "        elif 6 <= age_of_car < 10:\n",
    "            return 5\n",
    "        else:\n",
    "            return 3\n",
    "        \n",
    "    def get_employed_by_score(employed_by):\n",
    "        employed_by_score_dict = {\n",
    "            3: 20,\n",
    "            9: 20,\n",
    "            2: 15,\n",
    "            17: 5,\n",
    "            19: 5,\n",
    "            22: 5,\n",
    "            23: 5,\n",
    "            12: 5,\n",
    "            7: 5,\n",
    "            6: 0,\n",
    "            27: 0\n",
    "        }\n",
    "        return employed_by_score_dict.get(employed_by, 10)\n",
    "    \n",
    "    def get_education_score(education):\n",
    "        education_score_dict = {\n",
    "            1: 15,\n",
    "            2: 5,\n",
    "            3: 10,\n",
    "            4: 0\n",
    "        }\n",
    "        return education_score_dict.get(education, 0)\n",
    "    \n",
    "    def get_marital_status_score(marital_status):\n",
    "        marital_status_score_dict = {\n",
    "            1: 10,\n",
    "            2: 6,\n",
    "            3: 9,\n",
    "            4: 7,\n",
    "            5: 8,\n",
    "            6: 0\n",
    "        }\n",
    "        return marital_status_score_dict.get(marital_status, 0)\n",
    "    \n",
    "    def get_position_score(position):\n",
    "        position_score_dict = {\n",
    "            1: 12,\n",
    "            3: 12,\n",
    "            4: 12,\n",
    "            12: 4,\n",
    "            13: 0\n",
    "        }\n",
    "        return position_score_dict.get(position, 6)\n",
    "    \n",
    "    def get_income_type_score(income_type):\n",
    "        income_type_score_dict = {\n",
    "            1: 10,\n",
    "            2: 8,\n",
    "            3: 20,\n",
    "            4: 5,\n",
    "            5: 0\n",
    "        }\n",
    "        return income_type_score_dict.get(income_type, 0)\n",
    "    \n",
    "    def get_housing_score(housing):\n",
    "        housing_score_dict = {\n",
    "            1: 15,\n",
    "            2: 12,\n",
    "            3: 5,\n",
    "            4: 8,\n",
    "            5: 0\n",
    "        }\n",
    "        return housing_score_dict.get(housing, 0)\n",
    "    \n",
    "    def get_income_score_weight(income_score):\n",
    "        if income_score < 20:\n",
    "            return 0.75\n",
    "        else: \n",
    "            return 0.6946\n",
    "            \n",
    "        \n",
    "    scores_weights = {\n",
    "        'age': 0.6946,\n",
    "        'family': 0.3473,\n",
    "        'house_ownership': 0.4631,\n",
    "        'age_of_car': 0.4631,\n",
    "        'employed_by': 0.4631,\n",
    "        'education': 0.3473,\n",
    "        'marital_status': 0.2315,\n",
    "        'position': 0.2778,\n",
    "        'income_type': 0.4631,\n",
    "        'housing': 0.3473\n",
    "    }\n",
    "    \n",
    "    age = (datetime.date.today() - client.birth_date).days // 365\n",
    "    score_dict = dict()\n",
    "    score_dict['age'] = get_age_score(age) * scores_weights['age']\n",
    "    score_dict['family'] = get_family_score(client.family) * scores_weights['family']\n",
    "    score_dict['income'] = get_income_score(client.income) * get_income_score_weight(get_income_score(client.income))\n",
    "    score_dict['house_ownership'] = get_house_ownership_score(client.house_ownership) * scores_weights['house_ownership']\n",
    "    score_dict['age_of_car'] = get_age_of_car_score(client.age_of_car) * scores_weights['age_of_car']\n",
    "    score_dict['employed_by'] = get_employed_by_score(client.employed_by_id) * scores_weights['employed_by']\n",
    "    score_dict['education'] = get_education_score(client.education_id) * scores_weights['education']\n",
    "    score_dict['marital_status'] = get_marital_status_score(client.marital_status_id) * scores_weights['marital_status']\n",
    "    score_dict['position'] = get_position_score(client.position_id) * scores_weights['position']\n",
    "    score_dict['income_type'] = get_income_type_score(client.income_type_id) * scores_weights['income_type']\n",
    "    score_dict['housing'] = get_housing_score(client.housing_id) * scores_weights['housing']\n",
    "    return score_dict"
   ]
  },
  {
   "cell_type": "code",
   "execution_count": 44,
   "metadata": {
    "collapsed": true
   },
   "outputs": [],
   "source": [
    "def get_age_category(age):\n",
    "    if 18 <= age < 25:\n",
    "        return '[18, 25)'\n",
    "    elif 25 <= age < 35:\n",
    "        return '[25, 35)'\n",
    "    elif 35 <= age < 45:\n",
    "        return '[35, 45)'\n",
    "    elif 45 <= age < 55:\n",
    "        return '[45, 55)'\n",
    "    elif age != age:\n",
    "        return 'None'\n",
    "    else:\n",
    "        return '[55, inf)'\n",
    "\n",
    "def get_income_category(income):\n",
    "    if income < 30000:\n",
    "        return '[0-30000)'\n",
    "    elif 30000 <= income < 50000:\n",
    "        return '[30000, 50000)'\n",
    "    elif 50000 <= income < 100000:\n",
    "        return '[50000, 100000)'\n",
    "    elif 100000 <= income < 200000:\n",
    "        return '[100000, 200000)'\n",
    "    elif 200000 <= income < 350000:\n",
    "        return '[200000, 350000)'\n",
    "    elif 350000 <= income < 500000:\n",
    "        return '[350000, 500000)'\n",
    "    elif income != income:\n",
    "        return 'None'\n",
    "    else:\n",
    "        return '[500000, inf)'\n",
    "\n",
    "def get_age_of_car_category(age_of_car):\n",
    "    if age_of_car < 1:\n",
    "        return '[0, 1)'\n",
    "    elif 1 <= age_of_car < 3:\n",
    "        return '[1, 3)'\n",
    "    elif 3 <= age_of_car < 6:\n",
    "        return '[3, 6)'\n",
    "    elif 6 <= age_of_car < 10:\n",
    "        return '[6, 10)'\n",
    "    elif age_of_car != age_of_car:\n",
    "        return 'None'\n",
    "    else:\n",
    "        return '[10, inf)'"
   ]
  },
  {
   "cell_type": "code",
   "execution_count": 45,
   "metadata": {
    "collapsed": true
   },
   "outputs": [],
   "source": [
    "clients_df['default'] = clients_df.id_number.apply(lambda x: x in defaults_df.id_number.unique())"
   ]
  },
  {
   "cell_type": "markdown",
   "metadata": {},
   "source": [
    "## 1.c"
   ]
  },
  {
   "cell_type": "code",
   "execution_count": 46,
   "metadata": {
    "collapsed": true
   },
   "outputs": [],
   "source": [
    "clients_df['score'] = clients_df.apply(lambda x: sum(get_client_score(x).values()), axis=1)"
   ]
  },
  {
   "cell_type": "code",
   "execution_count": 47,
   "metadata": {
    "collapsed": false
   },
   "outputs": [
    {
     "name": "stdout",
     "output_type": "stream",
     "text": [
      "    id_number    name  birth_date application_date  gender  children  family  \\\n",
      "0      100003  CGGCCG  1968-07-22       2014-06-16       1       NaN     2.0   \n",
      "1      100004  AAACTC  1964-11-10       2017-01-02       0       NaN     1.0   \n",
      "2      100006  TATAAG  1964-08-29       2016-09-10       1       NaN     2.0   \n",
      "3      100007  AGAATA  1963-02-09       2017-09-05       0       NaN     1.0   \n",
      "4      100008  ATCGGC  1968-10-27       2015-03-16       0       NaN     2.0   \n",
      "5      100009  AGACGT  1978-02-05       2015-10-27       1       1.0     3.0   \n",
      "6      100010  TCTGGG  1965-10-11       2017-05-21       0       NaN     2.0   \n",
      "7      100011  CTTGCT  1960-06-26       2015-07-07       1       NaN     2.0   \n",
      "8      100012  TTGTGG  1978-02-28       2017-10-10       0       NaN     1.0   \n",
      "9      100014  GGGCGG  1987-10-26       2015-09-26       1       1.0     3.0   \n",
      "10     100015  GATTCC  1961-04-22       2017-03-16       1       NaN     2.0   \n",
      "11     100016  TTGCTA  1978-09-18       2015-07-05       1       NaN     2.0   \n",
      "12     100017  ATAGCA  1975-11-28       2014-06-22       0       1.0     3.0   \n",
      "13     100018  GTTCCG  1977-02-01       2017-01-05       1       NaN     2.0   \n",
      "14     100019  CCTTGG  1993-04-13       2017-03-06       0       NaN     1.0   \n",
      "15     100020  TCCGAC  1979-07-12       2014-12-06       0       NaN     2.0   \n",
      "16     100021  GTACTA  1991-11-02       2018-08-08       1       1.0     3.0   \n",
      "17     100022  GTACAA  1968-09-12       2017-03-17       1       NaN     1.0   \n",
      "18     100023  ACCAAC  1985-07-01       2016-07-26       1       1.0     2.0   \n",
      "19     100024  TTAGTA  1965-01-19       2015-01-09       0       NaN     2.0   \n",
      "20     100025  TTCCCT  1978-06-07       2018-12-29       1       1.0     3.0   \n",
      "21     100026  TAACCG  1984-06-30       2015-01-05       1       1.0     3.0   \n",
      "22     100027  GACTGT  1947-10-14       2015-10-04       1       NaN     2.0   \n",
      "23     100029  ACAGGG  1987-05-28       2018-04-21       0       2.0     4.0   \n",
      "24     100030  CGGTTA  1962-02-19       2015-01-26       1       NaN     2.0   \n",
      "25     100031  TGTATC  1965-03-08       2016-06-12       1       NaN     1.0   \n",
      "26     100032  AAACCG  1970-12-12       2014-08-11       0       1.0     3.0   \n",
      "27     100033  ACCACC  1988-10-11       2016-02-21       0       NaN     1.0   \n",
      "28     100034  TGACTT  1989-08-03       2017-11-25       0       NaN     1.0   \n",
      "29     100035  GCGGGC  1972-09-29       2014-07-31       1       NaN     2.0   \n",
      "..        ...     ...         ...              ...     ...       ...     ...   \n",
      "34     100041  GGTACT  1984-11-16       2018-03-01       1       NaN     2.0   \n",
      "35     100043  ACCCAC  1968-03-24       2015-04-26       1       2.0     4.0   \n",
      "36     100044  TGAACT  1960-07-14       2018-03-29       0       NaN     2.0   \n",
      "37     100045  GACTAC  1950-05-06       2015-11-01       1       NaN     2.0   \n",
      "38     100046  AACTCT  1972-04-27       2016-06-21       0       NaN     2.0   \n",
      "39     100047  ACTTTG  1968-10-16       2016-08-27       0       NaN     2.0   \n",
      "40     100048  GGAGCA  1968-05-30       2014-11-16       1       NaN     2.0   \n",
      "41     100049  TCCGAT  1979-09-09       2016-05-01       1       NaN     2.0   \n",
      "42     100050  GGATTG  1951-06-08       2015-11-27       1       NaN     1.0   \n",
      "43     100051  AGATCG  1990-12-26       2017-11-21       0       NaN     2.0   \n",
      "44     100052  CCCACC  1996-04-16       2018-02-14       1       1.0     3.0   \n",
      "45     100053  CACTTC  1961-11-09       2017-08-20       1       NaN     1.0   \n",
      "46     100054  AGTTAG  1961-09-15       2016-10-17       1       NaN     2.0   \n",
      "47     100055  ACTCCT  1960-06-01       2014-06-05       1       NaN     2.0   \n",
      "48     100056  CTAGTC  1966-11-27       2016-11-28       0       NaN     2.0   \n",
      "49     100058  TGTCTA  1981-07-08       2015-06-26       1       NaN     2.0   \n",
      "50     100059  AACTTA  1966-09-14       2017-09-18       0       1.0     3.0   \n",
      "51     100060  TGTGTG  1983-10-30       2017-06-15       0       NaN     2.0   \n",
      "52     100061  TGGGGT  1986-04-10       2014-12-12       1       2.0     4.0   \n",
      "53     100062  TAACGT  1967-03-31       2018-03-14       0       NaN     2.0   \n",
      "54     100063  CCCTTA  1982-09-10       2018-02-28       1       NaN     2.0   \n",
      "55     100064  AGGCGG  1958-12-05       2018-02-14       1       NaN     1.0   \n",
      "56     100068  GGTAGA  1964-05-25       2014-05-11       0       NaN     2.0   \n",
      "57     100069  CACATG  1978-07-14       2017-05-16       0       1.0     2.0   \n",
      "58     100070  TCACGT  1959-10-23       2016-01-21       0       NaN     1.0   \n",
      "59     100071  CGCGCA  1963-06-10       2018-07-12       1       NaN     2.0   \n",
      "60     100072  GACGGA  1997-03-12       2018-11-04       0       NaN     1.0   \n",
      "61     100073  TACTAC  1951-06-28       2014-01-11       0       NaN     2.0   \n",
      "62     100075  GACAGG  1984-09-08       2018-03-14       1       NaN     1.0   \n",
      "63     100076  GCCAGC  1978-06-25       2016-06-11       0       NaN     NaN   \n",
      "\n",
      "    city    income  house_ownership  age_of_car  employed_by_id  education_id  \\\n",
      "0   None  270000.0                0         NaN               1             1   \n",
      "1   None   67500.0                1        26.0               2             2   \n",
      "2   None  135000.0                1         NaN               3             2   \n",
      "3   None  121500.0                1         NaN               4             2   \n",
      "4   None   99000.0                1         NaN               5             2   \n",
      "5   None  171000.0                1        17.0               3             1   \n",
      "6   None  360000.0                1         8.0               5             1   \n",
      "7   None  112500.0                1         NaN               6             2   \n",
      "8   None  135000.0                1         NaN               7             2   \n",
      "9   None  112500.0                1         NaN               8             1   \n",
      "10  None   38419.2                1         NaN               6             2   \n",
      "11  None   67500.0                1         NaN               9             2   \n",
      "12  None  225000.0                0        23.0              10             2   \n",
      "13  None  189000.0                1         NaN              11             2   \n",
      "14  None  157500.0                1        17.0               9             2   \n",
      "15  None  108000.0                0         NaN               2             2   \n",
      "16  None   81000.0                1         NaN              12             2   \n",
      "17  None  112500.0                1         NaN              13             2   \n",
      "18  None   90000.0                1         NaN              14             1   \n",
      "19  None  135000.0                1         7.0              10             2   \n",
      "20  None  202500.0                1        14.0              15             2   \n",
      "21  None  450000.0                0         NaN              10             2   \n",
      "22  None   83250.0                1         NaN               6             2   \n",
      "23  None  135000.0                0         7.0               3             2   \n",
      "24  None   90000.0                1         NaN               3             2   \n",
      "25  None  112500.0                1         NaN               3             2   \n",
      "26  None  112500.0                1         NaN              16             2   \n",
      "27  None  270000.0                1         1.0              17             1   \n",
      "28  None   90000.0                1         NaN               3             1   \n",
      "29  None  292500.0                1         NaN               3             2   \n",
      "..   ...       ...              ...         ...             ...           ...   \n",
      "34  None  112500.0                0         NaN              10             1   \n",
      "35  None  198000.0                1         NaN               5             2   \n",
      "36  None  121500.0                1         NaN              20             2   \n",
      "37  None   99000.0                1         NaN               6             2   \n",
      "38  None  180000.0                1         3.0               3             1   \n",
      "39  None  202500.0                1         NaN               3             2   \n",
      "40  None  202500.0                1         NaN              21             2   \n",
      "41  None  135000.0                0         NaN              10             2   \n",
      "42  None  108000.0                1         NaN               6             1   \n",
      "43  None  202500.0                1         NaN               3             2   \n",
      "44  None   90000.0                1         NaN              10             2   \n",
      "45  None  202500.0                1         NaN               6             2   \n",
      "46  None   99000.0                1         NaN               3             2   \n",
      "47  None  130500.0                0         NaN               2             2   \n",
      "48  None  360000.0                1         3.0              11             2   \n",
      "49  None   54000.0                1         NaN               1             1   \n",
      "50  None  540000.0                1         7.0              18             1   \n",
      "51  None   76500.0                0        13.0              22             2   \n",
      "52  None  225000.0                1         NaN              10             1   \n",
      "53  None   81000.0                0         8.0               6             2   \n",
      "54  None  180000.0                1         NaN               8             1   \n",
      "55  None   67500.0                0         NaN               6             2   \n",
      "56  None   81000.0                1         NaN              23             2   \n",
      "57  None  360000.0                1        10.0              20             2   \n",
      "58  None  540000.0                1         2.0               3             1   \n",
      "59  None  180000.0                1         NaN              16             2   \n",
      "60  None  180000.0                0         NaN              24             3   \n",
      "61  None  324000.0                1        10.0               6             1   \n",
      "62  None  112500.0                0         NaN              25             1   \n",
      "63  None       NaN                0         NaN              26             4   \n",
      "\n",
      "    marital_status_id  position_id  income_type_id  housing_id  default  \\\n",
      "0                   1            1               1           1    False   \n",
      "1                   2            2               2           1    False   \n",
      "2                   3            2               2           1    False   \n",
      "3                   2            1               2           1    False   \n",
      "4                   1            2               1           1    False   \n",
      "5                   1            3               3           1    False   \n",
      "6                   1            4               1           1    False   \n",
      "7                   1            5               4           1    False   \n",
      "8                   2            2               2           1    False   \n",
      "9                   1            1               2           1    False   \n",
      "10                  1            5               4           1    False   \n",
      "11                  1            2               2           1    False   \n",
      "12                  1            6               2           1    False   \n",
      "13                  1            2               2           1    False   \n",
      "14                  2            2               2           2    False   \n",
      "15                  1            6               2           1    False   \n",
      "16                  1            2               2           1    False   \n",
      "17                  4            2               2           1    False   \n",
      "18                  2            1               1           1    False   \n",
      "19                  1            2               2           1    False   \n",
      "20                  1            7               3           1    False   \n",
      "21                  1            7               2           2    False   \n",
      "22                  1            5               4           1    False   \n",
      "23                  1            6               2           1    False   \n",
      "24                  1            8               2           1    False   \n",
      "25                  4            9               2           1     True   \n",
      "26                  1            2               2           1    False   \n",
      "27                  2            5               1           1    False   \n",
      "28                  2            2               2           3    False   \n",
      "29                  3            5               3           1    False   \n",
      "..                ...          ...             ...         ...      ...   \n",
      "34                  1            7               2           1    False   \n",
      "35                  1           10               3           1    False   \n",
      "36                  1            6               2           1    False   \n",
      "37                  1            5               4           1    False   \n",
      "38                  1            4               2           1    False   \n",
      "39                  1            2               3           1     True   \n",
      "40                  1            2               2           1    False   \n",
      "41                  3            7               2           1     True   \n",
      "42                  2            5               4           1     True   \n",
      "43                  3            5               2           1    False   \n",
      "44                  3            7               2           1    False   \n",
      "45                  2            5               4           1    False   \n",
      "46                  1           11               2           1    False   \n",
      "47                  1            4               1           1    False   \n",
      "48                  1            2               2           1     True   \n",
      "49                  1            1               1           1    False   \n",
      "50                  1            4               3           1    False   \n",
      "51                  1            5               2           1    False   \n",
      "52                  1            1               3           1    False   \n",
      "53                  1            5               4           1    False   \n",
      "54                  1            4               2           1    False   \n",
      "55                  2            5               4           4    False   \n",
      "56                  1           12               2           1    False   \n",
      "57                  5            2               2           1    False   \n",
      "58                  4            4               2           1    False   \n",
      "59                  1            3               3           1    False   \n",
      "60                  2            7               2           3    False   \n",
      "61                  3            5               4           1    False   \n",
      "62                  2            5               2           1    False   \n",
      "63                  6            6               5           5    False   \n",
      "\n",
      "      score  \n",
      "0   64.9219  \n",
      "1   61.3789  \n",
      "2   69.8754  \n",
      "3   56.1450  \n",
      "4   62.6521  \n",
      "5   79.0674  \n",
      "6   78.5831  \n",
      "7   51.1204  \n",
      "8   57.0249  \n",
      "9   65.4062  \n",
      "10  43.6204  \n",
      "11  62.8839  \n",
      "12  57.1194  \n",
      "13  62.0029  \n",
      "14  59.4565  \n",
      "15  55.0564  \n",
      "16  54.2009  \n",
      "17  63.0449  \n",
      "18  59.9199  \n",
      "19  66.4021  \n",
      "20  71.9386  \n",
      "21  56.0775  \n",
      "22  47.3704  \n",
      "23  54.8251  \n",
      "24  58.0217  \n",
      "25  67.6759  \n",
      "26  67.2124  \n",
      "27  66.1503  \n",
      "28  56.7484  \n",
      "29  78.0746  \n",
      "..      ...  \n",
      "34  52.7409  \n",
      "35  71.0331  \n",
      "36  57.1407  \n",
      "37  47.3704  \n",
      "38  78.4884  \n",
      "39  78.3061  \n",
      "40  68.1179  \n",
      "41  52.5094  \n",
      "42  51.9309  \n",
      "43  65.5714  \n",
      "44  49.3389  \n",
      "45  51.0999  \n",
      "46  58.0217  \n",
      "47  52.7872  \n",
      "48  74.8326  \n",
      "49  64.3189  \n",
      "50  88.4236  \n",
      "51  46.6754  \n",
      "52  71.8689  \n",
      "53  47.3698  \n",
      "54  67.1427  \n",
      "55  33.0148  \n",
      "56  58.8548  \n",
      "57  67.6549  \n",
      "58  79.6257  \n",
      "59  64.3647  \n",
      "60  37.9229  \n",
      "61  57.0039  \n",
      "62  50.0784  \n",
      "63  47.6266  \n",
      "\n",
      "[64 rows x 19 columns]\n"
     ]
    }
   ],
   "source": [
    "print(clients_df)"
   ]
  },
  {
   "cell_type": "code",
   "execution_count": 48,
   "metadata": {
    "collapsed": true
   },
   "outputs": [],
   "source": [
    "clients_df['event'] = clients_df.default.astype(int)\n",
    "clients_df['non_event'] = 1 - clients_df.default"
   ]
  },
  {
   "cell_type": "code",
   "execution_count": 49,
   "metadata": {
    "collapsed": true
   },
   "outputs": [],
   "source": [
    "clients_df['age_category'] = clients_df.birth_date.apply(lambda x: get_age_category((datetime.date.today() - x).days // 365))\n",
    "clients_df['income_category'] = clients_df.income.apply(get_income_category)\n",
    "clients_df['age_of_car_category'] = clients_df.age_of_car.apply(get_age_of_car_category)"
   ]
  },
  {
   "cell_type": "code",
   "execution_count": 50,
   "metadata": {
    "collapsed": true
   },
   "outputs": [],
   "source": [
    "chosen_columns = [\n",
    "    'age_category',\n",
    "    'income_category',\n",
    "    'age_of_car_category',\n",
    "]"
   ]
  },
  {
   "cell_type": "code",
   "execution_count": 51,
   "metadata": {
    "collapsed": false,
    "scrolled": false
   },
   "outputs": [
    {
     "data": {
      "image/png": "[encoded data removed]",
      "text/plain": [
       "<matplotlib.figure.Figure at 0x1f1c2898b00>"
      ]
     },
     "metadata": {},
     "output_type": "display_data"
    },
    {
     "data": {
      "image/png": "[encoded data removed]",
      "text/plain": [
       "<matplotlib.figure.Figure at 0x1f1c2f57ba8>"
      ]
     },
     "metadata": {},
     "output_type": "display_data"
    },
    {
     "data": {
      "image/png": "[encoded data removed]",
      "text/plain": [
       "<matplotlib.figure.Figure at 0x1f1c2fad748>"
      ]
     },
     "metadata": {},
     "output_type": "display_data"
    }
   ],
   "source": [
    "for column_name in chosen_columns:\n",
    "    df_gb = clients_df.groupby([column_name]).agg({\"default\": \"sum\", \n",
    "                                                   \"event\": lambda x: x.sum() / clients_df.event.sum(), \n",
    "                                                   \"non_event\": lambda x: x.sum() / clients_df.non_event.sum()})\n",
    "    df_gb['woe'] = np.log(np.clip(df_gb.event / df_gb.non_event, 0.001, np.inf))\n",
    "    df_gb.index = df_gb.index.astype(str)\n",
    "    plt.figure(figsize=(12, 7));\n",
    "    plt.plot(list(range(df_gb.shape[0])), df_gb.woe, 'o-')\n",
    "    plt.grid()\n",
    "    plt.xticks(list(range(df_gb.shape[0])), df_gb.index)\n",
    "    plt.ylabel(\"WOE\", fontsize=14)\n",
    "    plt.xlabel(column_name, fontsize=14)\n",
    "    plt.title(\"%s WOE plot\" % column_name, fontsize=16)\n",
    "    plt.show()"
   ]
  },
  {
   "cell_type": "code",
   "execution_count": null,
   "metadata": {
    "collapsed": true
   },
   "outputs": [],
   "source": []
  }
 ],
 "metadata": {
  "kernelspec": {
   "display_name": "Python 3",
   "language": "python",
   "name": "python3"
  },
  "language_info": {
   "codemirror_mode": {
    "name": "ipython",
    "version": 3
   },
   "file_extension": ".py",
   "mimetype": "text/x-python",
   "name": "python",
   "nbconvert_exporter": "python",
   "pygments_lexer": "ipython3",
   "version": "3.6.0"
  }
 },
 "nbformat": 4,
 "nbformat_minor": 2
}
